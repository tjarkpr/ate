{
 "cells": [
  {
   "cell_type": "markdown",
   "metadata": {},
   "source": [
    "# Tutorial: Approximate Local Text Explaination (ALTE)\n",
    "Explaining an IMDb Movies Text Classification Tensorflow Model localy for one datapoint with Approximate Local Text Explaination via linear models."
   ]
  },
  {
   "cell_type": "code",
   "execution_count": 1,
   "metadata": {},
   "outputs": [],
   "source": [
    "import re\n",
    "import string\n",
    "import tensorflow as tf\n",
    "import tensorflow_datasets as tfds\n",
    "import numpy as np\n",
    "import pandas as pd\n",
    "\n",
    "from tensorflow.python.keras import Sequential\n",
    "from tensorflow.python.keras.layers import Embedding, Dropout, GlobalAveragePooling1D, Dense\n",
    "from tensorflow.python.keras.losses import BinaryCrossentropy\n",
    "from tensorflow.python.keras.metrics import BinaryAccuracy\n",
    "from ate.base import ALTE, ATE_Options"
   ]
  },
  {
   "cell_type": "code",
   "execution_count": 2,
   "metadata": {},
   "outputs": [],
   "source": [
    "MAX_FEATURES = 10000\n",
    "EMBEDDING_DIM = 16\n",
    "SEQUENCE_LENGTH = 250\n",
    "BATCH_SIZE = 32\n",
    "AUTOTUNE = tf.data.AUTOTUNE"
   ]
  },
  {
   "cell_type": "code",
   "execution_count": 3,
   "metadata": {},
   "outputs": [
    {
     "name": "stdout",
     "output_type": "stream",
     "text": [
      "Metal device set to: Apple M1 Pro\n"
     ]
    },
    {
     "name": "stderr",
     "output_type": "stream",
     "text": [
      "2023-03-21 23:02:28.504920: I tensorflow/core/common_runtime/pluggable_device/pluggable_device_factory.cc:305] Could not identify NUMA node of platform GPU ID 0, defaulting to 0. Your kernel may not have been built with NUMA support.\n",
      "2023-03-21 23:02:28.505005: I tensorflow/core/common_runtime/pluggable_device/pluggable_device_factory.cc:271] Created TensorFlow device (/job:localhost/replica:0/task:0/device:GPU:0 with 0 MB memory) -> physical PluggableDevice (device: 0, name: METAL, pci bus id: <undefined>)\n"
     ]
    }
   ],
   "source": [
    "raw_train_ds = tfds.load('imdb_reviews', split='train').batch(BATCH_SIZE)\n",
    "raw_test_ds = tfds.load('imdb_reviews', split='test').batch(BATCH_SIZE)"
   ]
  },
  {
   "cell_type": "code",
   "execution_count": 4,
   "metadata": {},
   "outputs": [],
   "source": [
    "def custom_standardization(input_data):\n",
    "    lowercase = tf.strings.lower(input_data)\n",
    "    stripped_html = tf.strings.regex_replace(lowercase, '<br />', ' ')\n",
    "    return tf.strings.regex_replace(stripped_html, '[%s]' % re.escape(string.punctuation), '')"
   ]
  },
  {
   "cell_type": "code",
   "execution_count": 5,
   "metadata": {},
   "outputs": [],
   "source": [
    "vectorize_layer = tf.keras.layers.TextVectorization(\n",
    "    standardize=custom_standardization,\n",
    "    max_tokens=MAX_FEATURES,\n",
    "    output_mode='int',\n",
    "    output_sequence_length=SEQUENCE_LENGTH)"
   ]
  },
  {
   "cell_type": "code",
   "execution_count": 6,
   "metadata": {},
   "outputs": [
    {
     "name": "stderr",
     "output_type": "stream",
     "text": [
      "2023-03-21 23:02:28.612503: W tensorflow/core/platform/profile_utils/cpu_utils.cc:128] Failed to get CPU frequency: 0 Hz\n",
      "2023-03-21 23:02:28.660453: I tensorflow/core/grappler/optimizers/custom_graph_optimizer_registry.cc:113] Plugin optimizer for device_type GPU is enabled.\n"
     ]
    }
   ],
   "source": [
    "train_text = raw_train_ds.map(lambda x: x['text'])\n",
    "vectorize_layer.adapt(train_text)"
   ]
  },
  {
   "cell_type": "code",
   "execution_count": 7,
   "metadata": {},
   "outputs": [],
   "source": [
    "def vectorize_text(text, label):\n",
    "    text = tf.expand_dims(text, -1)\n",
    "    return vectorize_layer(text), label"
   ]
  },
  {
   "cell_type": "code",
   "execution_count": 8,
   "metadata": {},
   "outputs": [],
   "source": [
    "train_ds = raw_train_ds.map(lambda x: vectorize_text(x['text'], x['label']))\n",
    "test_ds = raw_test_ds.map(lambda x: vectorize_text(x['text'], x['label']))"
   ]
  },
  {
   "cell_type": "code",
   "execution_count": 9,
   "metadata": {},
   "outputs": [],
   "source": [
    "train_ds = train_ds.cache().prefetch(buffer_size=AUTOTUNE)\n",
    "test_ds = test_ds.cache().prefetch(buffer_size=AUTOTUNE)"
   ]
  },
  {
   "cell_type": "code",
   "execution_count": 10,
   "metadata": {},
   "outputs": [],
   "source": [
    "model = Sequential([\n",
    "    Embedding(MAX_FEATURES + 1, EMBEDDING_DIM),\n",
    "    Dropout(0.2),\n",
    "    GlobalAveragePooling1D(),\n",
    "    Dropout(0.2),\n",
    "    Dense(1)\n",
    "])"
   ]
  },
  {
   "cell_type": "code",
   "execution_count": 11,
   "metadata": {},
   "outputs": [],
   "source": [
    "model.compile(loss=BinaryCrossentropy(from_logits=True),\n",
    "              optimizer='adam',\n",
    "              metrics=BinaryAccuracy(threshold=0.0))"
   ]
  },
  {
   "cell_type": "code",
   "execution_count": 12,
   "metadata": {},
   "outputs": [
    {
     "name": "stdout",
     "output_type": "stream",
     "text": [
      "Epoch 1/5\n"
     ]
    },
    {
     "name": "stderr",
     "output_type": "stream",
     "text": [
      "2023-03-21 23:02:31.069198: I tensorflow/core/grappler/optimizers/custom_graph_optimizer_registry.cc:113] Plugin optimizer for device_type GPU is enabled.\n"
     ]
    },
    {
     "name": "stdout",
     "output_type": "stream",
     "text": [
      "782/782 [==============================] - 16s 18ms/step - loss: 0.6485 - binary_accuracy: 0.7179\n",
      "Epoch 2/5\n",
      "782/782 [==============================] - 10s 13ms/step - loss: 0.5003 - binary_accuracy: 0.8241\n",
      "Epoch 3/5\n",
      "782/782 [==============================] - 10s 12ms/step - loss: 0.3933 - binary_accuracy: 0.8637\n",
      "Epoch 4/5\n",
      "782/782 [==============================] - 9s 12ms/step - loss: 0.3312 - binary_accuracy: 0.8822\n",
      "Epoch 5/5\n",
      "782/782 [==============================] - 9s 12ms/step - loss: 0.2900 - binary_accuracy: 0.8974\n"
     ]
    }
   ],
   "source": [
    "history = model.fit(train_ds, epochs=5)"
   ]
  },
  {
   "cell_type": "code",
   "execution_count": 13,
   "metadata": {},
   "outputs": [
    {
     "name": "stdout",
     "output_type": "stream",
     "text": [
      "  8/782 [..............................] - ETA: 6s - loss: 0.3898 - binary_accuracy: 0.8320  "
     ]
    },
    {
     "name": "stderr",
     "output_type": "stream",
     "text": [
      "2023-03-21 23:03:25.175898: I tensorflow/core/grappler/optimizers/custom_graph_optimizer_registry.cc:113] Plugin optimizer for device_type GPU is enabled.\n"
     ]
    },
    {
     "name": "stdout",
     "output_type": "stream",
     "text": [
      "782/782 [==============================] - 4s 4ms/step - loss: 0.3369 - binary_accuracy: 0.8639\n",
      "Loss:  0.33687707781791687\n",
      "Accuracy:  0.8638800382614136\n"
     ]
    }
   ],
   "source": [
    "loss, accuracy = model.evaluate(test_ds)\n",
    "\n",
    "print(\"Loss: \", loss)\n",
    "print(\"Accuracy: \", accuracy)"
   ]
  },
  {
   "cell_type": "code",
   "execution_count": 14,
   "metadata": {},
   "outputs": [],
   "source": [
    "ate = ALTE(\n",
    "    lambda x: np.array(x.lower().split()),\n",
    "    lambda x: x, #INFO: Only needed for effect transformation.\n",
    "    lambda x: model.predict([vectorize_layer(' '.join(e)).numpy().tolist() if len(e) > 0 else [0]*SEQUENCE_LENGTH for e in x['text'].tolist()])\n",
    ")\n",
    "options = ATE_Options(['text'], 5, 10000, 1, 10)"
   ]
  },
  {
   "cell_type": "code",
   "execution_count": 15,
   "metadata": {},
   "outputs": [
    {
     "name": "stderr",
     "output_type": "stream",
     "text": [
      "  0%|                                                                                                                                                        | 0/5 [00:00<?, ?it/s]2023-03-21 23:03:30.051433: I tensorflow/core/grappler/optimizers/custom_graph_optimizer_registry.cc:113] Plugin optimizer for device_type GPU is enabled.\n"
     ]
    },
    {
     "name": "stdout",
     "output_type": "stream",
     "text": [
      "Epoch 1/10\n"
     ]
    },
    {
     "name": "stderr",
     "output_type": "stream",
     "text": [
      "2023-03-21 23:03:30.350384: I tensorflow/core/grappler/optimizers/custom_graph_optimizer_registry.cc:113] Plugin optimizer for device_type GPU is enabled.\n"
     ]
    },
    {
     "name": "stdout",
     "output_type": "stream",
     "text": [
      "5/5 [==============================] - 1s 71ms/step - loss: 0.1806 - accuracy: 0.5031\n",
      "Epoch 2/10\n",
      "5/5 [==============================] - 0s 17ms/step - loss: 0.1768 - accuracy: 0.5157\n",
      "Epoch 3/10\n",
      "5/5 [==============================] - 0s 15ms/step - loss: 0.1729 - accuracy: 0.5346\n",
      "Epoch 4/10\n",
      "5/5 [==============================] - 0s 12ms/step - loss: 0.1698 - accuracy: 0.5597\n",
      "Epoch 5/10\n",
      "5/5 [==============================] - 0s 7ms/step - loss: 0.1677 - accuracy: 0.5723\n",
      "Epoch 6/10\n",
      "5/5 [==============================] - 0s 8ms/step - loss: 0.1655 - accuracy: 0.5723\n",
      "Epoch 7/10\n",
      "5/5 [==============================] - 0s 7ms/step - loss: 0.1635 - accuracy: 0.5786\n",
      "Epoch 8/10\n",
      "5/5 [==============================] - 0s 7ms/step - loss: 0.1616 - accuracy: 0.5975\n",
      "Epoch 9/10\n",
      "5/5 [==============================] - 0s 8ms/step - loss: 0.1598 - accuracy: 0.6164\n",
      "Epoch 10/10\n",
      "5/5 [==============================] - 0s 7ms/step - loss: 0.1581 - accuracy: 0.6289\n"
     ]
    },
    {
     "name": "stderr",
     "output_type": "stream",
     "text": [
      "\r",
      " 20%|████████████████████████████▊                                                                                                                   | 1/5 [00:02<00:10,  2.64s/it]"
     ]
    },
    {
     "name": "stdout",
     "output_type": "stream",
     "text": [
      "Epoch 1/10\n",
      "313/313 [==============================] - 2s 7ms/step - loss: 0.1777 - accuracy: 0.6216\n",
      "Epoch 2/10\n",
      "313/313 [==============================] - 2s 6ms/step - loss: 0.0974 - accuracy: 0.7685\n",
      "Epoch 3/10\n",
      "313/313 [==============================] - 2s 6ms/step - loss: 0.0418 - accuracy: 0.8434\n",
      "Epoch 4/10\n",
      "313/313 [==============================] - 2s 6ms/step - loss: -0.0096 - accuracy: 0.8754\n",
      "Epoch 5/10\n",
      "313/313 [==============================] - 2s 6ms/step - loss: -0.0518 - accuracy: 0.8944\n",
      "Epoch 6/10\n",
      "313/313 [==============================] - 2s 6ms/step - loss: -0.0856 - accuracy: 0.9088\n",
      "Epoch 7/10\n",
      "313/313 [==============================] - 2s 6ms/step - loss: -0.1139 - accuracy: 0.9125\n",
      "Epoch 8/10\n",
      "313/313 [==============================] - 2s 6ms/step - loss: -0.1385 - accuracy: 0.9178\n",
      "Epoch 9/10\n",
      "313/313 [==============================] - 2s 6ms/step - loss: -0.1617 - accuracy: 0.9191\n",
      "Epoch 10/10\n",
      "313/313 [==============================] - 2s 6ms/step - loss: -0.1837 - accuracy: 0.9220\n"
     ]
    },
    {
     "name": "stderr",
     "output_type": "stream",
     "text": [
      "\r",
      " 40%|█████████████████████████████████████████████████████████▌                                                                                      | 2/5 [01:38<02:51, 57.29s/it]"
     ]
    },
    {
     "name": "stdout",
     "output_type": "stream",
     "text": [
      "Epoch 1/10\n",
      "313/313 [==============================] - 2s 6ms/step - loss: -0.2303 - accuracy: 0.9139\n",
      "Epoch 2/10\n",
      "313/313 [==============================] - 2s 6ms/step - loss: -0.2584 - accuracy: 0.9170\n",
      "Epoch 3/10\n",
      "313/313 [==============================] - 2s 6ms/step - loss: -0.2853 - accuracy: 0.9197\n",
      "Epoch 4/10\n",
      "313/313 [==============================] - 2s 6ms/step - loss: -0.3111 - accuracy: 0.9194\n",
      "Epoch 5/10\n",
      "313/313 [==============================] - 2s 6ms/step - loss: -0.3369 - accuracy: 0.9217\n",
      "Epoch 6/10\n",
      "313/313 [==============================] - 2s 6ms/step - loss: -0.3625 - accuracy: 0.9226\n",
      "Epoch 7/10\n",
      "313/313 [==============================] - 2s 7ms/step - loss: -0.3876 - accuracy: 0.9221\n",
      "Epoch 8/10\n",
      "313/313 [==============================] - 2s 7ms/step - loss: -0.4129 - accuracy: 0.9232\n",
      "Epoch 9/10\n",
      "313/313 [==============================] - 2s 6ms/step - loss: -0.4381 - accuracy: 0.9234\n",
      "Epoch 10/10\n",
      "313/313 [==============================] - 2s 6ms/step - loss: -0.4633 - accuracy: 0.9242\n"
     ]
    },
    {
     "name": "stderr",
     "output_type": "stream",
     "text": [
      "\r",
      " 60%|██████████████████████████████████████████████████████████████████████████████████████▍                                                         | 3/5 [03:16<02:32, 76.05s/it]"
     ]
    },
    {
     "name": "stdout",
     "output_type": "stream",
     "text": [
      "Epoch 1/10\n",
      "313/313 [==============================] - 2s 6ms/step - loss: -0.4613 - accuracy: 0.9209\n",
      "Epoch 2/10\n",
      "313/313 [==============================] - 2s 6ms/step - loss: -0.4868 - accuracy: 0.9246\n",
      "Epoch 3/10\n",
      "313/313 [==============================] - 2s 6ms/step - loss: -0.5110 - accuracy: 0.9228\n",
      "Epoch 4/10\n",
      "313/313 [==============================] - 2s 6ms/step - loss: -0.5360 - accuracy: 0.9260\n",
      "Epoch 5/10\n",
      "313/313 [==============================] - 2s 6ms/step - loss: -0.5600 - accuracy: 0.9244\n",
      "Epoch 6/10\n",
      "313/313 [==============================] - 2s 7ms/step - loss: -0.5836 - accuracy: 0.9266\n",
      "Epoch 7/10\n",
      "313/313 [==============================] - 2s 7ms/step - loss: -0.6075 - accuracy: 0.9267\n",
      "Epoch 8/10\n",
      "313/313 [==============================] - 2s 6ms/step - loss: -0.6314 - accuracy: 0.9254\n",
      "Epoch 9/10\n",
      "313/313 [==============================] - 2s 6ms/step - loss: -0.6554 - accuracy: 0.9257\n",
      "Epoch 10/10\n",
      "313/313 [==============================] - 2s 6ms/step - loss: -0.6787 - accuracy: 0.9271\n"
     ]
    },
    {
     "name": "stderr",
     "output_type": "stream",
     "text": [
      "\r",
      " 80%|███████████████████████████████████████████████████████████████████████████████████████████████████████████████████▏                            | 4/5 [04:51<01:23, 83.54s/it]"
     ]
    },
    {
     "name": "stdout",
     "output_type": "stream",
     "text": [
      "Epoch 1/10\n",
      "313/313 [==============================] - 2s 6ms/step - loss: -0.6833 - accuracy: 0.9272\n",
      "Epoch 2/10\n",
      "313/313 [==============================] - 2s 6ms/step - loss: -0.7079 - accuracy: 0.9288\n",
      "Epoch 3/10\n",
      "313/313 [==============================] - 2s 6ms/step - loss: -0.7320 - accuracy: 0.9292\n",
      "Epoch 4/10\n",
      "313/313 [==============================] - 2s 6ms/step - loss: -0.7555 - accuracy: 0.9303\n",
      "Epoch 5/10\n",
      "313/313 [==============================] - 2s 6ms/step - loss: -0.7786 - accuracy: 0.9312\n",
      "Epoch 6/10\n",
      "313/313 [==============================] - 2s 6ms/step - loss: -0.8014 - accuracy: 0.9294\n",
      "Epoch 7/10\n",
      "313/313 [==============================] - 2s 6ms/step - loss: -0.8244 - accuracy: 0.9311\n",
      "Epoch 8/10\n",
      "313/313 [==============================] - 2s 6ms/step - loss: -0.8470 - accuracy: 0.9303\n",
      "Epoch 9/10\n",
      "313/313 [==============================] - 2s 6ms/step - loss: -0.8699 - accuracy: 0.9295\n",
      "Epoch 10/10\n",
      "313/313 [==============================] - 2s 6ms/step - loss: -0.8920 - accuracy: 0.9302\n"
     ]
    },
    {
     "name": "stderr",
     "output_type": "stream",
     "text": [
      "100%|████████████████████████████████████████████████████████████████████████████████████████████████████████████████████████████████████████████████| 5/5 [06:25<00:00, 77.18s/it]"
     ]
    },
    {
     "name": "stdout",
     "output_type": "stream",
     "text": [
      "Text:  ['there' 'are' 'films' 'that' 'make' 'careers.' 'for' 'george' 'romero,'\n",
      " 'it' 'was' 'night' 'of' 'the' 'living' 'dead;' 'for' 'kevin' 'smith,'\n",
      " 'clerks;' 'for' 'robert' 'rodriguez,' 'el' 'mariachi.' 'add' 'to' 'that'\n",
      " 'list' 'onur' \"tukel's\" 'absolutely' 'amazing' 'ding-a-ling-less.'\n",
      " 'flawless' 'film-making,' 'and' 'as' 'assured' 'and' 'as' 'professional'\n",
      " 'as' 'any' 'of' 'the' 'aforementioned' 'movies.' 'i' \"haven't\" 'laughed'\n",
      " 'this' 'hard' 'since' 'i' 'saw' 'the' 'full' 'monty.' '(and,' 'even'\n",
      " 'then,' 'i' \"don't\" 'think' 'i' 'laughed' 'quite' 'this' 'hard...' 'so'\n",
      " 'to' 'speak.)' \"tukel's\" 'talent' 'is' 'considerable:' 'ding-a-ling-less'\n",
      " 'is' 'so' 'chock' 'full' 'of' 'double' 'entendres' 'that' 'one' 'would'\n",
      " 'have' 'to' 'sit' 'down' 'with' 'a' 'copy' 'of' 'this' 'script' 'and'\n",
      " 'do' 'a' 'line-by-line' 'examination' 'of' 'it' 'to' 'fully' 'appreciate'\n",
      " 'the,' 'uh,' 'breadth' 'and' 'width' 'of' 'it.' 'every' 'shot' 'is'\n",
      " 'beautifully' 'composed' '(a' 'clear' 'sign' 'of' 'a' 'sure-handed'\n",
      " 'director),' 'and' 'the' 'performances' 'all' 'around' 'are' 'solid'\n",
      " \"(there's\" 'none' 'of' 'the' 'over-the-top' 'scenery' 'chewing' 'one'\n",
      " \"might've\" 'expected' 'from' 'a' 'film' 'like' 'this).'\n",
      " 'ding-a-ling-less' 'is' 'a' 'film' 'whose' 'time' 'has' 'come.']\n",
      "Effects:  [('there', array([-1.8344879], dtype=float32)), ('are', array([-0.444259], dtype=float32)), ('films', array([0.54323053], dtype=float32)), ('that', array([-0.29072344], dtype=float32)), ('make', array([-2.875175], dtype=float32)), ('careers.', array([-0.44312945], dtype=float32)), ('for', array([-0.45312056], dtype=float32)), ('george', array([0.1587195], dtype=float32)), ('romero,', array([-1.0534947], dtype=float32)), ('it', array([1.765029], dtype=float32)), ('was', array([-1.4007093], dtype=float32)), ('night', array([0.40969774], dtype=float32)), ('of', array([0.2823848], dtype=float32)), ('the', array([-0.04272171], dtype=float32)), ('living', array([1.3071239], dtype=float32)), ('dead;', array([-1.6693705], dtype=float32)), ('for', array([-0.3454679], dtype=float32)), ('kevin', array([-0.30433157], dtype=float32)), ('smith,', array([1.8007926], dtype=float32)), ('clerks;', array([-0.65369284], dtype=float32)), ('for', array([-0.33440667], dtype=float32)), ('robert', array([0.0535636], dtype=float32)), ('rodriguez,', array([1.400968], dtype=float32)), ('el', array([0.36943153], dtype=float32)), ('mariachi.', array([-0.66459095], dtype=float32)), ('add', array([-0.98852044], dtype=float32)), ('to', array([-0.61247724], dtype=float32)), ('that', array([-0.28883138], dtype=float32)), ('list', array([-0.5522694], dtype=float32)), ('onur', array([-0.5457801], dtype=float32)), (\"tukel's\", array([-0.5974607], dtype=float32)), ('absolutely', array([-0.9910094], dtype=float32)), ('amazing', array([7.4289584], dtype=float32)), ('ding-a-ling-less.', array([-0.55576587], dtype=float32)), ('flawless', array([4.2997117], dtype=float32)), ('film-making,', array([-1.1542237], dtype=float32)), ('and', array([1.8112713], dtype=float32)), ('as', array([1.0637915], dtype=float32)), ('assured', array([-0.05285423], dtype=float32)), ('and', array([1.6714207], dtype=float32)), ('as', array([1.0487663], dtype=float32)), ('professional', array([0.7110591], dtype=float32)), ('as', array([0.9328457], dtype=float32)), ('any', array([-3.9837053], dtype=float32)), ('of', array([0.12115791], dtype=float32)), ('the', array([0.05215268], dtype=float32)), ('aforementioned', array([-1.105883], dtype=float32)), ('movies.', array([0.6929194], dtype=float32)), ('i', array([0.89971477], dtype=float32)), (\"haven't\", array([2.040006], dtype=float32)), ('laughed', array([0.49983814], dtype=float32)), ('this', array([-1.1337993], dtype=float32)), ('hard', array([-0.8191349], dtype=float32)), ('since', array([1.3036793], dtype=float32)), ('i', array([0.64567107], dtype=float32)), ('saw', array([1.5323423], dtype=float32)), ('the', array([0.03700021], dtype=float32)), ('full', array([0.7781196], dtype=float32)), ('monty.', array([0.980478], dtype=float32)), ('(and,', array([1.761771], dtype=float32)), ('even', array([-3.8933332], dtype=float32)), ('then,', array([-3.2018113], dtype=float32)), ('i', array([0.8271652], dtype=float32)), (\"don't\", array([-2.7662563], dtype=float32)), ('think', array([2.2231798], dtype=float32)), ('i', array([0.88496256], dtype=float32)), ('laughed', array([0.5173382], dtype=float32)), ('quite', array([1.9015716], dtype=float32)), ('this', array([-1.2484518], dtype=float32)), ('hard...', array([-0.90193594], dtype=float32)), ('so', array([-1.0335344], dtype=float32)), ('to', array([-0.71686304], dtype=float32)), ('speak.)', array([-0.20887597], dtype=float32)), (\"tukel's\", array([-0.57304287], dtype=float32)), ('talent', array([-1.8611102], dtype=float32)), ('is', array([0.7031079], dtype=float32)), ('considerable:', array([-0.09360671], dtype=float32)), ('ding-a-ling-less', array([-0.63768744], dtype=float32)), ('is', array([0.69060135], dtype=float32)), ('so', array([-0.9742451], dtype=float32)), ('chock', array([0.31119698], dtype=float32)), ('full', array([0.6446365], dtype=float32)), ('of', array([0.21841785], dtype=float32)), ('double', array([0.33635038], dtype=float32)), ('entendres', array([-0.71466666], dtype=float32)), ('that', array([-0.24316485], dtype=float32)), ('one', array([0.30938995], dtype=float32)), ('would', array([-2.0555923], dtype=float32)), ('have', array([-1.4792533], dtype=float32)), ('to', array([-0.63274264], dtype=float32)), ('sit', array([-2.3926504], dtype=float32)), ('down', array([-1.6971573], dtype=float32)), ('with', array([0.15650786], dtype=float32)), ('a', array([0.19290243], dtype=float32)), ('copy', array([2.2753525], dtype=float32)), ('of', array([0.15621413], dtype=float32)), ('this', array([-1.2177569], dtype=float32)), ('script', array([-5.905042], dtype=float32)), ('and', array([1.6034733], dtype=float32)), ('do', array([-2.439418], dtype=float32)), ('a', array([0.14507093], dtype=float32)), ('line-by-line', array([-0.74691343], dtype=float32)), ('examination', array([-0.02288586], dtype=float32)), ('of', array([0.13517195], dtype=float32)), ('it', array([1.8555732], dtype=float32)), ('to', array([-0.5374021], dtype=float32)), ('fully', array([1.1017601], dtype=float32)), ('appreciate', array([3.0992296], dtype=float32)), ('the,', array([0.04614533], dtype=float32)), ('uh,', array([-1.5018575], dtype=float32)), ('breadth', array([-0.606612], dtype=float32)), ('and', array([1.6422137], dtype=float32)), ('width', array([-0.7246913], dtype=float32)), ('of', array([0.11925247], dtype=float32)), ('it.', array([1.641547], dtype=float32)), ('every', array([-0.7337135], dtype=float32)), ('shot', array([-0.60465974], dtype=float32)), ('is', array([0.7883085], dtype=float32)), ('beautifully', array([5.0965014], dtype=float32)), ('composed', array([-0.9673171], dtype=float32)), ('(a', array([0.02593995], dtype=float32)), ('clear', array([-0.91027635], dtype=float32)), ('sign', array([-1.6219004], dtype=float32)), ('of', array([0.1548036], dtype=float32)), ('a', array([0.09056857], dtype=float32)), ('sure-handed', array([-0.4924772], dtype=float32)), ('director),', array([-3.1717768], dtype=float32)), ('and', array([1.8589181], dtype=float32)), ('the', array([0.03520955], dtype=float32)), ('performances', array([2.7408605], dtype=float32)), ('all', array([0.00296765], dtype=float32)), ('around', array([-0.67418575], dtype=float32)), ('are', array([-0.4145173], dtype=float32)), ('solid', array([4.3633084], dtype=float32)), (\"(there's\", array([-1.7561027], dtype=float32)), ('none', array([-4.610712], dtype=float32)), ('of', array([0.00133084], dtype=float32)), ('the', array([-0.13399631], dtype=float32)), ('over-the-top', array([-0.36625984], dtype=float32)), ('scenery', array([-0.54742634], dtype=float32)), ('chewing', array([-0.6549535], dtype=float32)), ('one', array([0.19892226], dtype=float32)), (\"might've\", array([-0.39313692], dtype=float32)), ('expected', array([-1.1704717], dtype=float32)), ('from', array([0.686981], dtype=float32)), ('a', array([0.25094467], dtype=float32)), ('film', array([0.33646458], dtype=float32)), ('like', array([-1.0090109], dtype=float32)), ('this).', array([-1.4069424], dtype=float32)), ('ding-a-ling-less', array([-0.70628726], dtype=float32)), ('is', array([0.78821725], dtype=float32)), ('a', array([-0.00296309], dtype=float32)), ('film', array([0.43661064], dtype=float32)), ('whose', array([-0.2916186], dtype=float32)), ('time', array([0.33395], dtype=float32)), ('has', array([0.9008048], dtype=float32)), ('come.', array([0.68901], dtype=float32))]\n"
     ]
    },
    {
     "name": "stderr",
     "output_type": "stream",
     "text": [
      "\n"
     ]
    }
   ],
   "source": [
    "test_df = tfds.as_dataframe(raw_test_ds).head(1)\n",
    "test_df = pd.DataFrame([test_df['text'][0][0].decode('UTF-8')], columns=['text'])\n",
    "effects = ate.explain(test_df, options)\n",
    "\n",
    "print(\"Text: \", test_df['text'][0])\n",
    "print(\"Effects: \", effects)"
   ]
  },
  {
   "cell_type": "code",
   "execution_count": 20,
   "metadata": {},
   "outputs": [
    {
     "data": {
      "text/html": [
       "<div>\n",
       "<style scoped>\n",
       "    .dataframe tbody tr th:only-of-type {\n",
       "        vertical-align: middle;\n",
       "    }\n",
       "\n",
       "    .dataframe tbody tr th {\n",
       "        vertical-align: top;\n",
       "    }\n",
       "\n",
       "    .dataframe thead th {\n",
       "        text-align: right;\n",
       "    }\n",
       "</style>\n",
       "<table border=\"1\" class=\"dataframe\">\n",
       "  <thead>\n",
       "    <tr style=\"text-align: right;\">\n",
       "      <th></th>\n",
       "      <th>word</th>\n",
       "      <th>effect</th>\n",
       "    </tr>\n",
       "  </thead>\n",
       "  <tbody>\n",
       "    <tr>\n",
       "      <th>0</th>\n",
       "      <td>there</td>\n",
       "      <td>-1.834488</td>\n",
       "    </tr>\n",
       "    <tr>\n",
       "      <th>4</th>\n",
       "      <td>make</td>\n",
       "      <td>-2.875175</td>\n",
       "    </tr>\n",
       "    <tr>\n",
       "      <th>9</th>\n",
       "      <td>it</td>\n",
       "      <td>1.765029</td>\n",
       "    </tr>\n",
       "    <tr>\n",
       "      <th>15</th>\n",
       "      <td>dead;</td>\n",
       "      <td>-1.669371</td>\n",
       "    </tr>\n",
       "    <tr>\n",
       "      <th>18</th>\n",
       "      <td>smith,</td>\n",
       "      <td>1.800793</td>\n",
       "    </tr>\n",
       "    <tr>\n",
       "      <th>32</th>\n",
       "      <td>amazing</td>\n",
       "      <td>7.428958</td>\n",
       "    </tr>\n",
       "    <tr>\n",
       "      <th>34</th>\n",
       "      <td>flawless</td>\n",
       "      <td>4.299712</td>\n",
       "    </tr>\n",
       "    <tr>\n",
       "      <th>36</th>\n",
       "      <td>and</td>\n",
       "      <td>1.811271</td>\n",
       "    </tr>\n",
       "    <tr>\n",
       "      <th>39</th>\n",
       "      <td>and</td>\n",
       "      <td>1.671421</td>\n",
       "    </tr>\n",
       "    <tr>\n",
       "      <th>43</th>\n",
       "      <td>any</td>\n",
       "      <td>-3.983705</td>\n",
       "    </tr>\n",
       "    <tr>\n",
       "      <th>49</th>\n",
       "      <td>haven't</td>\n",
       "      <td>2.040006</td>\n",
       "    </tr>\n",
       "    <tr>\n",
       "      <th>55</th>\n",
       "      <td>saw</td>\n",
       "      <td>1.532342</td>\n",
       "    </tr>\n",
       "    <tr>\n",
       "      <th>59</th>\n",
       "      <td>(and,</td>\n",
       "      <td>1.761771</td>\n",
       "    </tr>\n",
       "    <tr>\n",
       "      <th>60</th>\n",
       "      <td>even</td>\n",
       "      <td>-3.893333</td>\n",
       "    </tr>\n",
       "    <tr>\n",
       "      <th>61</th>\n",
       "      <td>then,</td>\n",
       "      <td>-3.201811</td>\n",
       "    </tr>\n",
       "    <tr>\n",
       "      <th>63</th>\n",
       "      <td>don't</td>\n",
       "      <td>-2.766256</td>\n",
       "    </tr>\n",
       "    <tr>\n",
       "      <th>64</th>\n",
       "      <td>think</td>\n",
       "      <td>2.223180</td>\n",
       "    </tr>\n",
       "    <tr>\n",
       "      <th>67</th>\n",
       "      <td>quite</td>\n",
       "      <td>1.901572</td>\n",
       "    </tr>\n",
       "    <tr>\n",
       "      <th>74</th>\n",
       "      <td>talent</td>\n",
       "      <td>-1.861110</td>\n",
       "    </tr>\n",
       "    <tr>\n",
       "      <th>87</th>\n",
       "      <td>would</td>\n",
       "      <td>-2.055592</td>\n",
       "    </tr>\n",
       "    <tr>\n",
       "      <th>90</th>\n",
       "      <td>sit</td>\n",
       "      <td>-2.392650</td>\n",
       "    </tr>\n",
       "    <tr>\n",
       "      <th>91</th>\n",
       "      <td>down</td>\n",
       "      <td>-1.697157</td>\n",
       "    </tr>\n",
       "    <tr>\n",
       "      <th>94</th>\n",
       "      <td>copy</td>\n",
       "      <td>2.275352</td>\n",
       "    </tr>\n",
       "    <tr>\n",
       "      <th>97</th>\n",
       "      <td>script</td>\n",
       "      <td>-5.905042</td>\n",
       "    </tr>\n",
       "    <tr>\n",
       "      <th>98</th>\n",
       "      <td>and</td>\n",
       "      <td>1.603473</td>\n",
       "    </tr>\n",
       "    <tr>\n",
       "      <th>99</th>\n",
       "      <td>do</td>\n",
       "      <td>-2.439418</td>\n",
       "    </tr>\n",
       "    <tr>\n",
       "      <th>104</th>\n",
       "      <td>it</td>\n",
       "      <td>1.855573</td>\n",
       "    </tr>\n",
       "    <tr>\n",
       "      <th>107</th>\n",
       "      <td>appreciate</td>\n",
       "      <td>3.099230</td>\n",
       "    </tr>\n",
       "    <tr>\n",
       "      <th>109</th>\n",
       "      <td>uh,</td>\n",
       "      <td>-1.501858</td>\n",
       "    </tr>\n",
       "    <tr>\n",
       "      <th>111</th>\n",
       "      <td>and</td>\n",
       "      <td>1.642214</td>\n",
       "    </tr>\n",
       "    <tr>\n",
       "      <th>114</th>\n",
       "      <td>it.</td>\n",
       "      <td>1.641547</td>\n",
       "    </tr>\n",
       "    <tr>\n",
       "      <th>118</th>\n",
       "      <td>beautifully</td>\n",
       "      <td>5.096501</td>\n",
       "    </tr>\n",
       "    <tr>\n",
       "      <th>122</th>\n",
       "      <td>sign</td>\n",
       "      <td>-1.621900</td>\n",
       "    </tr>\n",
       "    <tr>\n",
       "      <th>126</th>\n",
       "      <td>director),</td>\n",
       "      <td>-3.171777</td>\n",
       "    </tr>\n",
       "    <tr>\n",
       "      <th>127</th>\n",
       "      <td>and</td>\n",
       "      <td>1.858918</td>\n",
       "    </tr>\n",
       "    <tr>\n",
       "      <th>129</th>\n",
       "      <td>performances</td>\n",
       "      <td>2.740860</td>\n",
       "    </tr>\n",
       "    <tr>\n",
       "      <th>133</th>\n",
       "      <td>solid</td>\n",
       "      <td>4.363308</td>\n",
       "    </tr>\n",
       "    <tr>\n",
       "      <th>134</th>\n",
       "      <td>(there's</td>\n",
       "      <td>-1.756103</td>\n",
       "    </tr>\n",
       "    <tr>\n",
       "      <th>135</th>\n",
       "      <td>none</td>\n",
       "      <td>-4.610712</td>\n",
       "    </tr>\n",
       "  </tbody>\n",
       "</table>\n",
       "</div>"
      ],
      "text/plain": [
       "             word    effect\n",
       "0           there -1.834488\n",
       "4            make -2.875175\n",
       "9              it  1.765029\n",
       "15          dead; -1.669371\n",
       "18         smith,  1.800793\n",
       "32        amazing  7.428958\n",
       "34       flawless  4.299712\n",
       "36            and  1.811271\n",
       "39            and  1.671421\n",
       "43            any -3.983705\n",
       "49        haven't  2.040006\n",
       "55            saw  1.532342\n",
       "59          (and,  1.761771\n",
       "60           even -3.893333\n",
       "61          then, -3.201811\n",
       "63          don't -2.766256\n",
       "64          think  2.223180\n",
       "67          quite  1.901572\n",
       "74         talent -1.861110\n",
       "87          would -2.055592\n",
       "90            sit -2.392650\n",
       "91           down -1.697157\n",
       "94           copy  2.275352\n",
       "97         script -5.905042\n",
       "98            and  1.603473\n",
       "99             do -2.439418\n",
       "104            it  1.855573\n",
       "107    appreciate  3.099230\n",
       "109           uh, -1.501858\n",
       "111           and  1.642214\n",
       "114           it.  1.641547\n",
       "118   beautifully  5.096501\n",
       "122          sign -1.621900\n",
       "126    director), -3.171777\n",
       "127           and  1.858918\n",
       "129  performances  2.740860\n",
       "133         solid  4.363308\n",
       "134      (there's -1.756103\n",
       "135          none -4.610712"
      ]
     },
     "execution_count": 20,
     "metadata": {},
     "output_type": "execute_result"
    }
   ],
   "source": [
    "effect_df = pd.DataFrame(effects, columns=['word', 'effect'])\n",
    "effect_df['effect'] = effect_df['effect'].apply(lambda x: x[0])\n",
    "effect_df[(effect_df['effect'] > 1.5) | (effect_df['effect'] < -1.5)]"
   ]
  },
  {
   "cell_type": "code",
   "execution_count": null,
   "metadata": {},
   "outputs": [],
   "source": []
  }
 ],
 "metadata": {
  "kernelspec": {
   "display_name": "Python 3 (ipykernel)",
   "language": "python",
   "name": "python3"
  },
  "language_info": {
   "codemirror_mode": {
    "name": "ipython",
    "version": 3
   },
   "file_extension": ".py",
   "mimetype": "text/x-python",
   "name": "python",
   "nbconvert_exporter": "python",
   "pygments_lexer": "ipython3",
   "version": "3.10.9"
  }
 },
 "nbformat": 4,
 "nbformat_minor": 2
}
